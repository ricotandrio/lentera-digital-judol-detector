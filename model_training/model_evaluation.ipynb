{
 "cells": [
  {
   "cell_type": "code",
   "execution_count": 6,
   "metadata": {
    "executionInfo": {
     "elapsed": 1798,
     "status": "ok",
     "timestamp": 1751818350078,
     "user": {
      "displayName": "Ivan Setiawan",
      "userId": "11938109743588587181"
     },
     "user_tz": -420
    },
    "id": "zf1pb7ER5y_x"
   },
   "outputs": [],
   "source": [
    "import pandas as pd\n",
    "from sklearn.metrics import classification_report, confusion_matrix\n",
    "import seaborn as sns\n",
    "import matplotlib.pyplot as plt\n",
    "\n",
    "import json\n",
    "import requests\n",
    "import time"
   ]
  },
  {
   "cell_type": "code",
   "execution_count": 7,
   "metadata": {
    "executionInfo": {
     "elapsed": 26,
     "status": "ok",
     "timestamp": 1751818581600,
     "user": {
      "displayName": "Ivan Setiawan",
      "userId": "11938109743588587181"
     },
     "user_tz": -420
    },
    "id": "qh9ryG3H-rPD"
   },
   "outputs": [],
   "source": [
    "df = pd.read_csv(\"gambling_sites_dataset.csv\")\n",
    "df = df.sample(frac=1).reset_index(drop=True) # Shuffle"
   ]
  },
  {
   "cell_type": "code",
   "execution_count": 8,
   "metadata": {
    "colab": {
     "base_uri": "https://localhost:8080/"
    },
    "executionInfo": {
     "elapsed": 9,
     "status": "ok",
     "timestamp": 1751818583183,
     "user": {
      "displayName": "Ivan Setiawan",
      "userId": "11938109743588587181"
     },
     "user_tz": -420
    },
    "id": "5W6jLEXN-D6a",
    "outputId": "dffe4282-772a-48d9-a7a0-01fd4cddd73e"
   },
   "outputs": [
    {
     "name": "stdout",
     "output_type": "stream",
     "text": [
      "You are a professional gambling site detector.\n",
      "Analyze the given HTML content and decide: Is it a gambling site?\n",
      "Output exactly one character:\n",
      "“1” if the HTML is from a gambling site,\n",
      "“0” otherwise.\n",
      "\n",
      "Answer with no explanation, no punctuation, only the digit.\n"
     ]
    }
   ],
   "source": [
    "instruction = '''You are a professional gambling site detector.\n",
    "Analyze the given HTML content and decide: Is it a gambling site?\n",
    "Output exactly one character:\n",
    "“1” if the HTML is from a gambling site,\n",
    "“0” otherwise.\n",
    "\n",
    "Answer with no explanation, no punctuation, only the digit.'''\n",
    "\n",
    "print(instruction)"
   ]
  },
  {
   "cell_type": "code",
   "execution_count": null,
   "metadata": {
    "colab": {
     "base_uri": "https://localhost:8080/",
     "height": 1000
    },
    "executionInfo": {
     "elapsed": 68,
     "status": "error",
     "timestamp": 1751818667364,
     "user": {
      "displayName": "Ivan Setiawan",
      "userId": "11938109743588587181"
     },
     "user_tz": -420
    },
    "id": "ZT0PVN2z8sm5",
    "outputId": "b95ca593-7ea9-4fa3-a15e-40d1a0f43c37"
   },
   "outputs": [
    {
     "name": "stdout",
     "output_type": "stream",
     "text": [
      "1 0 0 0 0 0 0 0 0 0 0 0 0 0 1 Retrying (1/5) - Status code: 429\n",
      "Retrying (2/5) - Status code: 429\n",
      "0 Retrying (1/5) - Status code: 429\n",
      "Retrying (2/5) - Status code: 429\n",
      "0 0 1 0 0 1 1 0 0 1 1 0 1 1 0 0 Retrying (1/5) - Status code: 429\n",
      "Retrying (2/5) - Status code: 429\n",
      "Retrying (3/5) - Status code: 429\n",
      "1 0 0 1 1 0 0 0 1 1 0 0 0 1 0 1 Retrying (1/5) - Status code: 429\n",
      "Retrying (2/5) - Status code: 429\n",
      "Retrying (3/5) - Status code: 429\n",
      "Retrying (4/5) - Status code: 429\n",
      "1 0 0 0 1 0 1 0 0 0 0 1 0 0 1 Retrying (1/5) - Status code: 429\n",
      "1 Retrying (1/5) - Status code: 429\n",
      "Retrying (2/5) - Status code: 429\n",
      "Retrying (3/5) - Status code: 429\n",
      "1 1 1 1 0 0 0 "
     ]
    }
   ],
   "source": [
    "API_KEY = \"YOUR API KEY\"\n",
    "URL = f\"https://generativelanguage.googleapis.com/v1beta/models/gemini-2.0-flash:generateContent\"\n",
    "MAX_RETRIES = 5\n",
    "TIME_DELAY = 4\n",
    "\n",
    "headers = {\n",
    "  \"Content-Type\": \"application/json\",\n",
    "  \"X-goog-api-key\": API_KEY\n",
    "}\n",
    "\n",
    "preds = []\n",
    "for row in df.itertuples(index=True):\n",
    "\n",
    "  time.sleep(TIME_DELAY)\n",
    "\n",
    "  question = f\"HTML Content: {row.Scan}\\nQuestion: Is it a gambling site?\\nAnswer (just answer 0 for no or 1 for yes): \"\n",
    "\n",
    "  prompt = instruction + \"\\n\\n\" + question\n",
    "\n",
    "  payload = {\n",
    "      \"contents\": [\n",
    "      {\n",
    "        \"parts\": [\n",
    "            {\n",
    "              \"text\": prompt\n",
    "            }\n",
    "        ]\n",
    "      }\n",
    "    ]\n",
    "  }\n",
    "\n",
    "  retries = 0\n",
    "  success = False\n",
    "  while retries < MAX_RETRIES:\n",
    "\n",
    "    try:\n",
    "      response = requests.post(URL, headers=headers, data=json.dumps(payload))\n",
    "      if response.ok:\n",
    "        json_response = response.json()\n",
    "        output = json_response[\"candidates\"][0][\"content\"][\"parts\"][0][\"text\"].strip().replace(\"\\n\", \"\")\n",
    "        print(output, end=\" \")\n",
    "        preds.append(int(output))\n",
    "        success = True\n",
    "        break  # Exit the retry loop\n",
    "      else:\n",
    "        print(f\"Retrying ({retries+1}/{MAX_RETRIES}) - Status code: {response.status_code}\")\n",
    "    \n",
    "    except Exception as e:\n",
    "      print(f\"Retrying ({retries+1}/{MAX_RETRIES}) - Error: {e}\")\n",
    "        \n",
    "    retries = retries + 1\n",
    "    time.sleep(TIME_DELAY)  # Sleep to avoid hitting rate limits\n",
    "\n",
    "  if not success:\n",
    "    print(\"Max retries exceeded, appending default value -1\")\n",
    "    preds.append(-1)  # or use `None`, depending on how you want to handle failure\n",
    "\n",
    "\n",
    "df[\"Prediction\"] = preds"
   ]
  },
  {
   "cell_type": "code",
   "execution_count": 12,
   "metadata": {
    "executionInfo": {
     "elapsed": 99847,
     "status": "aborted",
     "timestamp": 1751814750226,
     "user": {
      "displayName": "Ivan Setiawan",
      "userId": "11938109743588587181"
     },
     "user_tz": -420
    },
    "id": "bnICpgElD-dO"
   },
   "outputs": [
    {
     "name": "stdout",
     "output_type": "stream",
     "text": [
      "               precision    recall  f1-score   support\n",
      "\n",
      "  Normal Site       0.87      0.97      0.92        40\n",
      "Gambling Site       0.96      0.81      0.88        31\n",
      "\n",
      "     accuracy                           0.90        71\n",
      "    macro avg       0.91      0.89      0.90        71\n",
      " weighted avg       0.91      0.90      0.90        71\n",
      "\n"
     ]
    }
   ],
   "source": [
    "true_labels = df[\"IsGamblingSite\"].to_list()\n",
    "pred_labels = df[\"Prediction\"].to_list()\n",
    "\n",
    "print(classification_report(true_labels, pred_labels, target_names=['Normal Site', 'Gambling Site']))"
   ]
  },
  {
   "cell_type": "code",
   "execution_count": 13,
   "metadata": {},
   "outputs": [
    {
     "data": {
      "image/png": "[encoded data removed]",
      "text/plain": [
       "<Figure size 640x480 with 2 Axes>"
      ]
     },
     "metadata": {},
     "output_type": "display_data"
    }
   ],
   "source": [
    "cm = confusion_matrix(true_labels, pred_labels)\n",
    "ax = sns.heatmap(cm, annot=True, fmt='d', xticklabels=['Normal', 'Gambling Site'], yticklabels=['Normal', 'Gambling Site'])\n",
    "ax.set_xlabel('Predicted Label')\n",
    "ax.set_ylabel('True Label')\n",
    "ax.set_title('Confusion Matrix')\n",
    "plt.show()"
   ]
  }
 ],
 "metadata": {
  "accelerator": "GPU",
  "colab": {
   "authorship_tag": "ABX9TyMIreM4nYd9O4rM8zOuu/D0",
   "gpuType": "T4",
   "provenance": []
  },
  "kernelspec": {
   "display_name": "antijudol",
   "language": "python",
   "name": "python3"
  },
  "language_info": {
   "codemirror_mode": {
    "name": "ipython",
    "version": 3
   },
   "file_extension": ".py",
   "mimetype": "text/x-python",
   "name": "python",
   "nbconvert_exporter": "python",
   "pygments_lexer": "ipython3",
   "version": "3.11.13"
  }
 },
 "nbformat": 4,
 "nbformat_minor": 0
}
